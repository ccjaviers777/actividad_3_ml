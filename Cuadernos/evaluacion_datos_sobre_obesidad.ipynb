{
 "cells": [
  {
   "cell_type": "markdown",
   "id": "29b58c4c-f750-452e-b7b6-3f79d1ef0f5f",
   "metadata": {},
   "source": [
    "## Iniciando proyecto obesidad"
   ]
  }
 ],
 "metadata": {
  "kernelspec": {
   "display_name": "ml2024",
   "language": "python",
   "name": "ml2024"
  },
  "language_info": {
   "codemirror_mode": {
    "name": "ipython",
    "version": 3
   },
   "file_extension": ".py",
   "mimetype": "text/x-python",
   "name": "python",
   "nbconvert_exporter": "python",
   "pygments_lexer": "ipython3",
   "version": "3.12.7"
  }
 },
 "nbformat": 4,
 "nbformat_minor": 5
}
